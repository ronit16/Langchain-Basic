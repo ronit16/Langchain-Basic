{
 "cells": [
  {
   "cell_type": "code",
   "execution_count": 5,
   "metadata": {},
   "outputs": [],
   "source": [
    "import os\n",
    "from constants import gemini_key\n",
    "os.environ[\"GOOGLE_API_KEY\"] = gemini_key"
   ]
  },
  {
   "cell_type": "code",
   "execution_count": 7,
   "metadata": {},
   "outputs": [
    {
     "data": {
      "text/plain": [
       "'I want you to act as a financial Advisor for people. \\nIn an easy way, Explain the basics of Stock Market.'"
      ]
     },
     "execution_count": 7,
     "metadata": {},
     "output_type": "execute_result"
    }
   ],
   "source": [
    "from langchain import PromptTemplate\n",
    "\n",
    "template = '''I want you to act as a financial Advisor for people. \n",
    "In an easy way, Explain the basics of {financial_Concept}.'''\n",
    "\n",
    "prompt = PromptTemplate(\n",
    "    input_variables=['financial_Concept'],\n",
    "    template=template\n",
    "    )\n",
    "\n",
    "prompt.format(financial_Concept='Stock Market')"
   ]
  },
  {
   "cell_type": "code",
   "execution_count": 8,
   "metadata": {},
   "outputs": [],
   "source": [
    "from langchain_google_genai import ChatGoogleGenerativeAI\n",
    "from langchain.chains import LLMChain\n",
    "\n",
    "chat = ChatGoogleGenerativeAI(temperature=0.8, model='gemini-pro')\n",
    "\n",
    "chain = LLMChain(llm=chat, prompt=prompt)"
   ]
  },
  {
   "cell_type": "code",
   "execution_count": 9,
   "metadata": {},
   "outputs": [
    {
     "data": {
      "text/plain": [
       "\"**What is the Stock Market?**\\n\\nThe stock market is a marketplace where companies sell shares of their ownership to investors. Investors buy these shares with the hope that the companies will grow and they can sell the shares for a profit later on.\\n\\n**How Does it Work?**\\n\\n* Companies issue shares to raise money.\\n* Investors buy shares to own a piece of the company.\\n* The price of a share is determined by supply and demand.\\n* If more people want to buy a stock than sell it, the price goes up.\\n* If more people want to sell a stock than buy it, the price goes down.\\n\\n**Types of Stocks**\\n\\n* **Common stock:** Gives investors ownership and voting rights in the company.\\n* **Preferred stock:** Pays regular dividends but does not give voting rights.\\n\\n**Benefits of Investing in Stocks**\\n\\n* **Potential for growth:** Stocks can appreciate in value over time, leading to capital gains.\\n* **Dividends:** Some stocks pay dividends to shareholders, providing a passive income stream.\\n* **Diversification:** Stocks can diversify your portfolio, reducing risk.\\n\\n**Risks of Investing in Stocks**\\n\\n* **Market volatility:** Stock prices can fluctuate significantly, leading to losses.\\n* **Company-specific risks:** Events that affect a particular company, such as financial problems or legal issues, can impact stock prices.\\n* **Inflation:** Rising inflation can erode the value of stock investments over time.\\n\\n**Tips for Beginner Investors**\\n\\n* Start small and gradually increase your investments.\\n* Diversify your portfolio by investing in different companies and asset classes.\\n* Invest for the long term and don't panic sell.\\n* Understand the risks involved and consult with a financial advisor if needed.\""
      ]
     },
     "execution_count": 9,
     "metadata": {},
     "output_type": "execute_result"
    }
   ],
   "source": [
    "chain.run('Stock Market')"
   ]
  },
  {
   "cell_type": "code",
   "execution_count": 17,
   "metadata": {},
   "outputs": [
    {
     "data": {
      "text/plain": [
       "'In an easy way Translate the following text Hello, how are you? to Spanish'"
      ]
     },
     "execution_count": 17,
     "metadata": {},
     "output_type": "execute_result"
    }
   ],
   "source": [
    "## Language Translation\n",
    "from langchain import PromptTemplate\n",
    "\n",
    "template = '''In an easy way Translate the following text {sentence} to {target_language}'''\n",
    "\n",
    "prompt = PromptTemplate(\n",
    "    input_variables=['sentence', 'target_language'],\n",
    "    template=template\n",
    "    )\n",
    "\n",
    "prompt.format(sentence='Hello, how are you?', target_language='Spanish')"
   ]
  },
  {
   "cell_type": "code",
   "execution_count": 18,
   "metadata": {},
   "outputs": [
    {
     "data": {
      "text/plain": [
       "{'sentence': 'Hello, how are you?',\n",
       " 'target_language': 'Hindi',\n",
       " 'text': 'नमस्कार, आप कैसे हैं?'}"
      ]
     },
     "execution_count": 18,
     "metadata": {},
     "output_type": "execute_result"
    }
   ],
   "source": [
    "chain2 = LLMChain(llm=chat, prompt=prompt)\n",
    "\n",
    "chain2({'sentence' : 'Hello, how are you?', 'target_language' : 'Hindi'})"
   ]
  },
  {
   "cell_type": "code",
   "execution_count": 28,
   "metadata": {},
   "outputs": [],
   "source": [
    "from langchain import PromptTemplate, FewShotPromptTemplate\n",
    "\n",
    "examples = [\n",
    "    {'word': 'Happy', 'antonym': 'Sad'},\n",
    "    {'word': 'Hot', 'antonym': 'Cold'},\n",
    "    {'word': 'Fast', 'antonym': 'Slow'},\n",
    "    {'word': 'Good', 'antonym': 'Bad'},\n",
    "    {'word': 'Big', 'antonym': 'Small'}\n",
    "]\n",
    "\n",
    "examples_template = '''Word : {word} Antonym : {antonym}'''\n",
    "\n",
    "examples_prompt = PromptTemplate(\n",
    "    input_variables=['word', 'antonym'],\n",
    "    template=examples_template\n",
    ")"
   ]
  },
  {
   "cell_type": "code",
   "execution_count": 30,
   "metadata": {},
   "outputs": [],
   "source": [
    "few_short_template = FewShotPromptTemplate(\n",
    "    example_prompt=examples_prompt,  # Include the required field\n",
    "    examples=examples,\n",
    "    prefix='Give the antonym of every input \\n',\n",
    "    suffix='Word : {input} \\nAntonym : ',\n",
    "    input_variables=['input'],\n",
    "    example_separator='\\n'\n",
    ")"
   ]
  },
  {
   "cell_type": "code",
   "execution_count": 31,
   "metadata": {},
   "outputs": [
    {
     "data": {
      "text/plain": [
       "'Give the antonym of every input \\n\\nWord : Happy Antonym : Sad\\nWord : Hot Antonym : Cold\\nWord : Fast Antonym : Slow\\nWord : Good Antonym : Bad\\nWord : Big Antonym : Small\\nWord : tall \\nAntonym : '"
      ]
     },
     "execution_count": 31,
     "metadata": {},
     "output_type": "execute_result"
    }
   ],
   "source": [
    "few_short_template.format(input='tall')"
   ]
  },
  {
   "cell_type": "code",
   "execution_count": 32,
   "metadata": {},
   "outputs": [
    {
     "data": {
      "text/plain": [
       "{'input': 'Tall', 'text': 'Short'}"
      ]
     },
     "execution_count": 32,
     "metadata": {},
     "output_type": "execute_result"
    }
   ],
   "source": [
    "chain3 = LLMChain(llm=chat, prompt=few_short_template)\n",
    "\n",
    "chain3({'input' : 'Tall'})"
   ]
  }
 ],
 "metadata": {
  "kernelspec": {
   "display_name": "myenv",
   "language": "python",
   "name": "python3"
  },
  "language_info": {
   "codemirror_mode": {
    "name": "ipython",
    "version": 3
   },
   "file_extension": ".py",
   "mimetype": "text/x-python",
   "name": "python",
   "nbconvert_exporter": "python",
   "pygments_lexer": "ipython3",
   "version": "3.10.12"
  }
 },
 "nbformat": 4,
 "nbformat_minor": 2
}
